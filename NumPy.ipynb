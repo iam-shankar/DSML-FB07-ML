{
  "nbformat": 4,
  "nbformat_minor": 0,
  "metadata": {
    "colab": {
      "provenance": [],
      "toc_visible": true,
      "include_colab_link": true
    },
    "kernelspec": {
      "name": "python3",
      "display_name": "Python 3"
    },
    "language_info": {
      "name": "python"
    }
  },
  "cells": [
    {
      "cell_type": "markdown",
      "metadata": {
        "id": "view-in-github",
        "colab_type": "text"
      },
      "source": [
        "<a href=\"https://colab.research.google.com/github/iam-shankar/DSML-FB07-ML/blob/main/NumPy.ipynb\" target=\"_parent\"><img src=\"https://colab.research.google.com/assets/colab-badge.svg\" alt=\"Open In Colab\"/></a>"
      ]
    },
    {
      "cell_type": "markdown",
      "source": [
        "#NumPy"
      ],
      "metadata": {
        "id": "-HQwHkLGSPZY"
      }
    },
    {
      "cell_type": "markdown",
      "source": [
        "# Creating NumPy Arrays"
      ],
      "metadata": {
        "id": "07i-br9fSfQC"
      }
    },
    {
      "cell_type": "code",
      "source": [
        "import numpy as np"
      ],
      "metadata": {
        "id": "WonfmRHmGfRr"
      },
      "execution_count": null,
      "outputs": []
    },
    {
      "cell_type": "code",
      "source": [
        "# 1D Array\n",
        "arr1 = np.array([1, 2, 3, 4, 5])\n",
        "print(\"1D Array:\", arr1)\n",
        "print(type(arr1))"
      ],
      "metadata": {
        "colab": {
          "base_uri": "https://localhost:8080/"
        },
        "id": "UwKSHVryGgR6",
        "outputId": "64c92142-83cf-484b-eb42-16508d640d29"
      },
      "execution_count": null,
      "outputs": [
        {
          "output_type": "stream",
          "name": "stdout",
          "text": [
            "1D Array: [1 2 3 4 5]\n",
            "<class 'numpy.ndarray'>\n"
          ]
        }
      ]
    },
    {
      "cell_type": "code",
      "source": [
        "arr1"
      ],
      "metadata": {
        "colab": {
          "base_uri": "https://localhost:8080/"
        },
        "id": "gfbcRKC3Gq_9",
        "outputId": "8fc2af6d-7c2f-49a8-9e58-4df058f17f31"
      },
      "execution_count": null,
      "outputs": [
        {
          "output_type": "execute_result",
          "data": {
            "text/plain": [
              "array([1, 2, 3, 4, 5])"
            ]
          },
          "metadata": {},
          "execution_count": 3
        }
      ]
    },
    {
      "cell_type": "markdown",
      "source": [
        "# 2 dimensional array"
      ],
      "metadata": {
        "id": "lX_PiTnYJPly"
      }
    },
    {
      "cell_type": "code",
      "source": [
        "#2d list\n",
        "list_2d=[[1,2,3],[4,5,6]]\n",
        "len(list_2d)"
      ],
      "metadata": {
        "colab": {
          "base_uri": "https://localhost:8080/"
        },
        "id": "gyAaPGSrJWfF",
        "outputId": "f6096ebd-26e9-4515-f177-46302115fcd5"
      },
      "execution_count": null,
      "outputs": [
        {
          "output_type": "execute_result",
          "data": {
            "text/plain": [
              "2"
            ]
          },
          "metadata": {},
          "execution_count": 5
        }
      ]
    },
    {
      "cell_type": "code",
      "source": [
        "list_2d[0]"
      ],
      "metadata": {
        "colab": {
          "base_uri": "https://localhost:8080/"
        },
        "id": "P1IqPAswJkMB",
        "outputId": "ff02ef1a-5aa5-4d45-86a0-631df5685c79"
      },
      "execution_count": null,
      "outputs": [
        {
          "output_type": "execute_result",
          "data": {
            "text/plain": [
              "[1, 2, 3]"
            ]
          },
          "metadata": {},
          "execution_count": 6
        }
      ]
    },
    {
      "cell_type": "code",
      "source": [
        "list_2d[0][2]"
      ],
      "metadata": {
        "colab": {
          "base_uri": "https://localhost:8080/"
        },
        "id": "C4QGXYEjJmEw",
        "outputId": "79f8f3ce-30f1-4714-8a8e-433b2e02c4be"
      },
      "execution_count": null,
      "outputs": [
        {
          "output_type": "execute_result",
          "data": {
            "text/plain": [
              "3"
            ]
          },
          "metadata": {},
          "execution_count": 8
        }
      ]
    },
    {
      "cell_type": "code",
      "source": [
        "# 2D Array\n",
        "arr2 = np.array([[1, 2, 3], [4, 5, 6]])\n",
        "print(\"2D Array:\\n\", arr2)"
      ],
      "metadata": {
        "colab": {
          "base_uri": "https://localhost:8080/"
        },
        "id": "IV8kgTnSJ2DV",
        "outputId": "1a65b544-0931-4e8a-ef67-52b929c33f5b"
      },
      "execution_count": null,
      "outputs": [
        {
          "output_type": "stream",
          "name": "stdout",
          "text": [
            "2D Array:\n",
            " [[1 2 3]\n",
            " [4 5 6]]\n"
          ]
        }
      ]
    },
    {
      "cell_type": "code",
      "source": [
        "type(arr2)"
      ],
      "metadata": {
        "colab": {
          "base_uri": "https://localhost:8080/"
        },
        "id": "FBf5UW7jJ6SB",
        "outputId": "f603c116-3242-4716-e5f7-7a78617fc3bb"
      },
      "execution_count": null,
      "outputs": [
        {
          "output_type": "execute_result",
          "data": {
            "text/plain": [
              "numpy.ndarray"
            ]
          },
          "metadata": {},
          "execution_count": 10
        }
      ]
    },
    {
      "cell_type": "code",
      "source": [
        "a=[1,2,3,4]\n",
        "b=[5,6,7,8]\n",
        "arr3=np.array([a,b])\n",
        "print(arr3)"
      ],
      "metadata": {
        "colab": {
          "base_uri": "https://localhost:8080/"
        },
        "id": "dMiWdbavKDsq",
        "outputId": "10092d74-865e-4d6d-f243-2c91459952b0"
      },
      "execution_count": null,
      "outputs": [
        {
          "output_type": "stream",
          "name": "stdout",
          "text": [
            "[[1 2 3 4]\n",
            " [5 6 7 8]]\n"
          ]
        }
      ]
    },
    {
      "cell_type": "markdown",
      "source": [
        "#NumPy Initialization"
      ],
      "metadata": {
        "id": "P_R2MMFNKVbl"
      }
    },
    {
      "cell_type": "code",
      "source": [
        "# Array of Zeros\n",
        "zeros = np.zeros((3, 4))  # 3 rows, 4 columns\n",
        "print(\"Array of Zeros:\\n\", zeros)"
      ],
      "metadata": {
        "colab": {
          "base_uri": "https://localhost:8080/"
        },
        "id": "S3edQ3cYKkQd",
        "outputId": "fbdc5d53-5026-4a9c-c458-11df9fe9bd46"
      },
      "execution_count": null,
      "outputs": [
        {
          "output_type": "stream",
          "name": "stdout",
          "text": [
            "Array of Zeros:\n",
            " [[0. 0. 0. 0.]\n",
            " [0. 0. 0. 0.]\n",
            " [0. 0. 0. 0.]]\n"
          ]
        }
      ]
    },
    {
      "cell_type": "code",
      "source": [
        "# Array of Ones\n",
        "ones = np.ones((2, 3))  # 2 rows, 3 columns\n",
        "print(\"Array of Ones:\\n\", ones)"
      ],
      "metadata": {
        "colab": {
          "base_uri": "https://localhost:8080/"
        },
        "id": "DcqxBq9oKlzT",
        "outputId": "7e21a3e8-11e3-4429-ad4a-0fbeb537f259"
      },
      "execution_count": null,
      "outputs": [
        {
          "output_type": "stream",
          "name": "stdout",
          "text": [
            "Array of Ones:\n",
            " [[1. 1. 1.]\n",
            " [1. 1. 1.]]\n"
          ]
        }
      ]
    },
    {
      "cell_type": "code",
      "source": [
        "# Array with Range\n",
        "arr_range = np.arange(1, 10, 2)  # Start at 1, end before 10, step 2\n",
        "print(\"Array with Range:\", arr_range)"
      ],
      "metadata": {
        "colab": {
          "base_uri": "https://localhost:8080/"
        },
        "id": "xYgNtwtpKoDr",
        "outputId": "b43d3e50-1f48-4636-e7e0-c924a5a7f1fe"
      },
      "execution_count": null,
      "outputs": [
        {
          "output_type": "stream",
          "name": "stdout",
          "text": [
            "Array with Range: [1 3 5 7 9]\n"
          ]
        }
      ]
    },
    {
      "cell_type": "code",
      "execution_count": null,
      "metadata": {
        "colab": {
          "base_uri": "https://localhost:8080/"
        },
        "id": "waw2zjRFSN_4",
        "outputId": "913438f0-5b28-4040-a175-2057afe681ed"
      },
      "outputs": [
        {
          "output_type": "stream",
          "name": "stdout",
          "text": [
            "Random Array:\n",
            " [[0.43084432 0.76692406 0.41872284]\n",
            " [0.48133982 0.46090671 0.29668658]\n",
            " [0.19886917 0.2956542  0.41729697]]\n"
          ]
        }
      ],
      "source": [
        "# Random Array\n",
        "random_arr = np.random.rand(3, 3)  # 3x3 array with random values\n",
        "print(\"Random Array:\\n\", random_arr)\n"
      ]
    },
    {
      "cell_type": "markdown",
      "source": [
        "#Arrange Z numbers between X and Y"
      ],
      "metadata": {
        "id": "x2K0_PMoLUbn"
      }
    },
    {
      "cell_type": "markdown",
      "source": [
        "#Linspace"
      ],
      "metadata": {
        "id": "yuHqBBtxLVkG"
      }
    },
    {
      "cell_type": "code",
      "source": [
        "np.linspace(0,20,5) # np.linspace(start,stop,num_of_samples)\n"
      ],
      "metadata": {
        "colab": {
          "base_uri": "https://localhost:8080/"
        },
        "id": "tYUOv9fiLDA3",
        "outputId": "300cd553-b223-440d-d93c-55910f32b424"
      },
      "execution_count": null,
      "outputs": [
        {
          "output_type": "execute_result",
          "data": {
            "text/plain": [
              "array([ 0.,  5., 10., 15., 20.])"
            ]
          },
          "metadata": {},
          "execution_count": 19
        }
      ]
    },
    {
      "cell_type": "code",
      "source": [
        "np.linspace(1,2,5)"
      ],
      "metadata": {
        "colab": {
          "base_uri": "https://localhost:8080/"
        },
        "id": "qrQxL4nWUQi_",
        "outputId": "a106f309-11f8-4f2d-a018-84d0fee26cf8"
      },
      "execution_count": null,
      "outputs": [
        {
          "output_type": "execute_result",
          "data": {
            "text/plain": [
              "array([1.  , 1.25, 1.5 , 1.75, 2.  ])"
            ]
          },
          "metadata": {},
          "execution_count": 20
        }
      ]
    },
    {
      "cell_type": "markdown",
      "source": [
        "#inspecting the array : checking the shape of the array"
      ],
      "metadata": {
        "id": "52taPbSOUfz3"
      }
    },
    {
      "cell_type": "code",
      "source": [
        "a=np.array([[1,2,3],[4,5,6]])\n",
        "a.shape\n",
        "#(2,3) (rows,cols)"
      ],
      "metadata": {
        "colab": {
          "base_uri": "https://localhost:8080/"
        },
        "id": "i4NTBRB5UlbN",
        "outputId": "b34ba92f-3cad-4b8c-bc8c-9ef15f404573"
      },
      "execution_count": null,
      "outputs": [
        {
          "output_type": "execute_result",
          "data": {
            "text/plain": [
              "(2, 3)"
            ]
          },
          "metadata": {},
          "execution_count": 23
        }
      ]
    },
    {
      "cell_type": "code",
      "source": [
        "len(a) #no. of rows"
      ],
      "metadata": {
        "colab": {
          "base_uri": "https://localhost:8080/"
        },
        "id": "pSGGoDDNU1IV",
        "outputId": "bd5af841-1d4e-49e2-f623-6b451db48c64"
      },
      "execution_count": null,
      "outputs": [
        {
          "output_type": "execute_result",
          "data": {
            "text/plain": [
              "2"
            ]
          },
          "metadata": {},
          "execution_count": 24
        }
      ]
    },
    {
      "cell_type": "code",
      "source": [
        "type(a.shape)"
      ],
      "metadata": {
        "colab": {
          "base_uri": "https://localhost:8080/"
        },
        "id": "S0dpMTaGU7lp",
        "outputId": "966d1372-6ec0-4d61-a384-2155f7f763fe"
      },
      "execution_count": null,
      "outputs": [
        {
          "output_type": "execute_result",
          "data": {
            "text/plain": [
              "tuple"
            ]
          },
          "metadata": {},
          "execution_count": 25
        }
      ]
    },
    {
      "cell_type": "code",
      "source": [
        "a.shape[0]  #no.rows"
      ],
      "metadata": {
        "colab": {
          "base_uri": "https://localhost:8080/"
        },
        "id": "SDn8QjmtU-wb",
        "outputId": "fe25935a-387f-41a3-b150-8281d86298af"
      },
      "execution_count": null,
      "outputs": [
        {
          "output_type": "execute_result",
          "data": {
            "text/plain": [
              "2"
            ]
          },
          "metadata": {},
          "execution_count": 26
        }
      ]
    },
    {
      "cell_type": "code",
      "source": [
        "a.shape[1] #no.cols"
      ],
      "metadata": {
        "colab": {
          "base_uri": "https://localhost:8080/"
        },
        "id": "CzgMct-iVDE_",
        "outputId": "edda88c7-7521-4549-9041-b84683bc6b5e"
      },
      "execution_count": null,
      "outputs": [
        {
          "output_type": "execute_result",
          "data": {
            "text/plain": [
              "3"
            ]
          },
          "metadata": {},
          "execution_count": 27
        }
      ]
    },
    {
      "cell_type": "markdown",
      "source": [
        "#reshape the array"
      ],
      "metadata": {
        "id": "nB_FXRCwVpm7"
      }
    },
    {
      "cell_type": "code",
      "source": [
        "a"
      ],
      "metadata": {
        "colab": {
          "base_uri": "https://localhost:8080/"
        },
        "id": "uXrCePCDVopb",
        "outputId": "b71dc05f-d4b3-4bdc-cd37-7298127b762b"
      },
      "execution_count": null,
      "outputs": [
        {
          "output_type": "execute_result",
          "data": {
            "text/plain": [
              "array([[1, 2, 3],\n",
              "       [4, 5, 6]])"
            ]
          },
          "metadata": {},
          "execution_count": 28
        }
      ]
    },
    {
      "cell_type": "code",
      "source": [
        "a.shape=(3,2)\n",
        "a"
      ],
      "metadata": {
        "colab": {
          "base_uri": "https://localhost:8080/"
        },
        "id": "sIOn_0BTVsgI",
        "outputId": "bca554f4-09a5-4820-a818-69c4fc1eaecf"
      },
      "execution_count": null,
      "outputs": [
        {
          "output_type": "execute_result",
          "data": {
            "text/plain": [
              "array([[1, 2],\n",
              "       [3, 4],\n",
              "       [5, 6]])"
            ]
          },
          "metadata": {},
          "execution_count": 29
        }
      ]
    },
    {
      "cell_type": "code",
      "source": [
        "ar=np.arange(24)\n",
        "ar"
      ],
      "metadata": {
        "colab": {
          "base_uri": "https://localhost:8080/"
        },
        "id": "9WV81MxqWdkh",
        "outputId": "c08821da-72ce-4ca0-8484-b7bd991128d1"
      },
      "execution_count": null,
      "outputs": [
        {
          "output_type": "execute_result",
          "data": {
            "text/plain": [
              "array([ 0,  1,  2,  3,  4,  5,  6,  7,  8,  9, 10, 11, 12, 13, 14, 15, 16,\n",
              "       17, 18, 19, 20, 21, 22, 23])"
            ]
          },
          "metadata": {},
          "execution_count": 39
        }
      ]
    },
    {
      "cell_type": "code",
      "source": [
        "ar.shape\n",
        "#(20,)singlton tuple"
      ],
      "metadata": {
        "colab": {
          "base_uri": "https://localhost:8080/"
        },
        "id": "j5GY1AC8WhGk",
        "outputId": "cb8fb40c-20bf-4a9b-bf1b-17253ffc11ef"
      },
      "execution_count": null,
      "outputs": [
        {
          "output_type": "execute_result",
          "data": {
            "text/plain": [
              "(24,)"
            ]
          },
          "metadata": {},
          "execution_count": 40
        }
      ]
    },
    {
      "cell_type": "code",
      "source": [
        "b=ar.reshape(4,6) # reshape(no of rows, no of cols)\n",
        "b"
      ],
      "metadata": {
        "colab": {
          "base_uri": "https://localhost:8080/"
        },
        "id": "7AnXMAEvW0Xy",
        "outputId": "b92feadb-f426-4e7d-aea9-70ab9347606f"
      },
      "execution_count": null,
      "outputs": [
        {
          "output_type": "execute_result",
          "data": {
            "text/plain": [
              "array([[ 0,  1,  2,  3,  4,  5],\n",
              "       [ 6,  7,  8,  9, 10, 11],\n",
              "       [12, 13, 14, 15, 16, 17],\n",
              "       [18, 19, 20, 21, 22, 23]])"
            ]
          },
          "metadata": {},
          "execution_count": 43
        }
      ]
    },
    {
      "cell_type": "markdown",
      "source": [
        "#reshaping to 3D array"
      ],
      "metadata": {
        "id": "0b7bj4SyZusU"
      }
    },
    {
      "cell_type": "code",
      "source": [
        "c=ar.reshape(2,3,4) #(no.arrays,rows,cols)\n",
        "c"
      ],
      "metadata": {
        "colab": {
          "base_uri": "https://localhost:8080/"
        },
        "id": "utkaV6nkYfHf",
        "outputId": "0dbe5446-30dd-4350-960b-9e24801dce0b"
      },
      "execution_count": null,
      "outputs": [
        {
          "output_type": "execute_result",
          "data": {
            "text/plain": [
              "array([[[ 0,  1,  2,  3],\n",
              "        [ 4,  5,  6,  7],\n",
              "        [ 8,  9, 10, 11]],\n",
              "\n",
              "       [[12, 13, 14, 15],\n",
              "        [16, 17, 18, 19],\n",
              "        [20, 21, 22, 23]]])"
            ]
          },
          "metadata": {},
          "execution_count": 52
        }
      ]
    },
    {
      "cell_type": "code",
      "source": [
        "c.shape"
      ],
      "metadata": {
        "colab": {
          "base_uri": "https://localhost:8080/"
        },
        "id": "9fuZIGgMa_Ph",
        "outputId": "4e2727bb-5b34-4793-dcfb-3e5e1ab7f0d4"
      },
      "execution_count": null,
      "outputs": [
        {
          "output_type": "execute_result",
          "data": {
            "text/plain": [
              "(2, 3, 4)"
            ]
          },
          "metadata": {},
          "execution_count": 45
        }
      ]
    },
    {
      "cell_type": "code",
      "source": [
        "d=ar.reshape(3,2,4) #(no.arrays,rows,cols)\n",
        "d"
      ],
      "metadata": {
        "colab": {
          "base_uri": "https://localhost:8080/"
        },
        "id": "2c-TCVHDZBeN",
        "outputId": "5c77b649-600f-424b-d1e1-12161b79e21b"
      },
      "execution_count": null,
      "outputs": [
        {
          "output_type": "execute_result",
          "data": {
            "text/plain": [
              "array([[[ 0,  1,  2,  3],\n",
              "        [ 4,  5,  6,  7]],\n",
              "\n",
              "       [[ 8,  9, 10, 11],\n",
              "        [12, 13, 14, 15]],\n",
              "\n",
              "       [[16, 17, 18, 19],\n",
              "        [20, 21, 22, 23]]])"
            ]
          },
          "metadata": {},
          "execution_count": 53
        }
      ]
    },
    {
      "cell_type": "markdown",
      "source": [
        "#checking dimension"
      ],
      "metadata": {
        "id": "Oyq-DBHrbmub"
      }
    },
    {
      "cell_type": "code",
      "source": [
        "a.ndim"
      ],
      "metadata": {
        "colab": {
          "base_uri": "https://localhost:8080/"
        },
        "id": "nKwq4_IFbuH7",
        "outputId": "eb57f206-102f-43f9-d642-864dc7623b0d"
      },
      "execution_count": null,
      "outputs": [
        {
          "output_type": "execute_result",
          "data": {
            "text/plain": [
              "2"
            ]
          },
          "metadata": {},
          "execution_count": 54
        }
      ]
    },
    {
      "cell_type": "code",
      "source": [
        "b.ndim"
      ],
      "metadata": {
        "colab": {
          "base_uri": "https://localhost:8080/"
        },
        "id": "mCGqFNUTbvqm",
        "outputId": "13858fd7-8a6c-4bb8-a384-a77921858f32"
      },
      "execution_count": null,
      "outputs": [
        {
          "output_type": "execute_result",
          "data": {
            "text/plain": [
              "2"
            ]
          },
          "metadata": {},
          "execution_count": 56
        }
      ]
    },
    {
      "cell_type": "code",
      "source": [
        "c.ndim"
      ],
      "metadata": {
        "colab": {
          "base_uri": "https://localhost:8080/"
        },
        "id": "M0adaktobyRl",
        "outputId": "f183de1c-92fb-4829-855a-bd8e1ab65979"
      },
      "execution_count": null,
      "outputs": [
        {
          "output_type": "execute_result",
          "data": {
            "text/plain": [
              "3"
            ]
          },
          "metadata": {},
          "execution_count": 57
        }
      ]
    },
    {
      "cell_type": "code",
      "source": [
        "d.ndim"
      ],
      "metadata": {
        "colab": {
          "base_uri": "https://localhost:8080/"
        },
        "id": "xhA-yYTeb0dn",
        "outputId": "b255052e-2727-43ef-afb4-6c1d0b34ad7d"
      },
      "execution_count": null,
      "outputs": [
        {
          "output_type": "execute_result",
          "data": {
            "text/plain": [
              "3"
            ]
          },
          "metadata": {},
          "execution_count": 58
        }
      ]
    },
    {
      "cell_type": "markdown",
      "source": [
        "#converting back to 1d array"
      ],
      "metadata": {
        "id": "re_3V_jzbSN9"
      }
    },
    {
      "cell_type": "code",
      "source": [
        "d.flatten()"
      ],
      "metadata": {
        "colab": {
          "base_uri": "https://localhost:8080/"
        },
        "id": "U1Y7gNohbVIz",
        "outputId": "db5bf394-cc47-455e-c8fe-39de0fafa1ef"
      },
      "execution_count": null,
      "outputs": [
        {
          "output_type": "execute_result",
          "data": {
            "text/plain": [
              "array([ 0,  1,  2,  3,  4,  5,  6,  7,  8,  9, 10, 11, 12, 13, 14, 15, 16,\n",
              "       17, 18, 19, 20, 21, 22, 23])"
            ]
          },
          "metadata": {},
          "execution_count": 49
        }
      ]
    },
    {
      "cell_type": "code",
      "source": [
        "d.shape"
      ],
      "metadata": {
        "colab": {
          "base_uri": "https://localhost:8080/"
        },
        "id": "Ltxmax7GbZZ-",
        "outputId": "df7ee90e-2ac7-49bc-de9c-2dd48fc2a541"
      },
      "execution_count": null,
      "outputs": [
        {
          "output_type": "execute_result",
          "data": {
            "text/plain": [
              "(3, 2, 4)"
            ]
          },
          "metadata": {},
          "execution_count": 50
        }
      ]
    },
    {
      "cell_type": "code",
      "source": [
        "c.reshape(-1)"
      ],
      "metadata": {
        "colab": {
          "base_uri": "https://localhost:8080/"
        },
        "id": "2VRimhXNbddB",
        "outputId": "efcbb3b3-bb81-44e1-d1a4-f49162857ba1"
      },
      "execution_count": null,
      "outputs": [
        {
          "output_type": "execute_result",
          "data": {
            "text/plain": [
              "array([ 0,  1,  2,  3,  4,  5,  6,  7,  8,  9, 10, 11, 12, 13, 14, 15, 16,\n",
              "       17, 18, 19, 20, 21, 22, 23])"
            ]
          },
          "metadata": {},
          "execution_count": 51
        }
      ]
    },
    {
      "cell_type": "markdown",
      "source": [
        "#find the number of elements in the array"
      ],
      "metadata": {
        "id": "tlTig2jEb61s"
      }
    },
    {
      "cell_type": "code",
      "source": [
        "a.size"
      ],
      "metadata": {
        "colab": {
          "base_uri": "https://localhost:8080/"
        },
        "id": "NKGAbQrwb9di",
        "outputId": "cd59963e-71c8-41d6-8b91-484dcdb780f4"
      },
      "execution_count": null,
      "outputs": [
        {
          "output_type": "execute_result",
          "data": {
            "text/plain": [
              "6"
            ]
          },
          "metadata": {},
          "execution_count": 59
        }
      ]
    },
    {
      "cell_type": "code",
      "source": [
        "c.size"
      ],
      "metadata": {
        "colab": {
          "base_uri": "https://localhost:8080/"
        },
        "id": "E7qJYxLBb_IC",
        "outputId": "e0c25cbc-aaef-46be-acae-addc083b742c"
      },
      "execution_count": null,
      "outputs": [
        {
          "output_type": "execute_result",
          "data": {
            "text/plain": [
              "24"
            ]
          },
          "metadata": {},
          "execution_count": 60
        }
      ]
    },
    {
      "cell_type": "markdown",
      "source": [
        "#checking type of the data"
      ],
      "metadata": {
        "id": "K0ORQek3cUsG"
      }
    },
    {
      "cell_type": "code",
      "source": [
        "#checking type of the data\n",
        "d.dtype"
      ],
      "metadata": {
        "colab": {
          "base_uri": "https://localhost:8080/"
        },
        "id": "fKL_Fy2RcNC3",
        "outputId": "5b44004f-7cf3-41d8-b02f-65b0791a7b42"
      },
      "execution_count": null,
      "outputs": [
        {
          "output_type": "execute_result",
          "data": {
            "text/plain": [
              "dtype('int64')"
            ]
          },
          "metadata": {},
          "execution_count": 62
        }
      ]
    },
    {
      "cell_type": "code",
      "source": [
        "#default type int\n",
        "f=np.arange(24)\n",
        "f"
      ],
      "metadata": {
        "colab": {
          "base_uri": "https://localhost:8080/"
        },
        "id": "0Es5kWVFci7J",
        "outputId": "b5f985a0-7cfa-46b6-9819-a37cd523bca4"
      },
      "execution_count": null,
      "outputs": [
        {
          "output_type": "execute_result",
          "data": {
            "text/plain": [
              "array([ 0,  1,  2,  3,  4,  5,  6,  7,  8,  9, 10, 11, 12, 13, 14, 15, 16,\n",
              "       17, 18, 19, 20, 21, 22, 23])"
            ]
          },
          "metadata": {},
          "execution_count": 65
        }
      ]
    },
    {
      "cell_type": "code",
      "source": [
        "#changing the data type while creating the array\n",
        "e=np.arange(24,dtype=float)\n",
        "e"
      ],
      "metadata": {
        "colab": {
          "base_uri": "https://localhost:8080/"
        },
        "id": "xhLdCk29cYDu",
        "outputId": "37655b98-de14-417f-f019-e80070723a3f"
      },
      "execution_count": null,
      "outputs": [
        {
          "output_type": "execute_result",
          "data": {
            "text/plain": [
              "array([ 0.,  1.,  2.,  3.,  4.,  5.,  6.,  7.,  8.,  9., 10., 11., 12.,\n",
              "       13., 14., 15., 16., 17., 18., 19., 20., 21., 22., 23.])"
            ]
          },
          "metadata": {},
          "execution_count": 63
        }
      ]
    },
    {
      "cell_type": "markdown",
      "source": [
        "#2. Array Operations"
      ],
      "metadata": {
        "id": "IKnaWcFESidq"
      }
    },
    {
      "cell_type": "code",
      "source": [
        "a1=[1,2]\n",
        "a2=[3,4]\n",
        "\n",
        "a1+a2 #concatenates list"
      ],
      "metadata": {
        "colab": {
          "base_uri": "https://localhost:8080/"
        },
        "id": "xyzAkrIec-dC",
        "outputId": "88b9f306-723d-46a4-f0bb-655bde0b5fff"
      },
      "execution_count": null,
      "outputs": [
        {
          "output_type": "execute_result",
          "data": {
            "text/plain": [
              "[1, 2, 3, 4]"
            ]
          },
          "metadata": {},
          "execution_count": 66
        }
      ]
    },
    {
      "cell_type": "code",
      "source": [
        "a1=np.array([1,2])\n",
        "a2=np.array([1,2])\n",
        "a1+a2 #adds the value of the two arrays"
      ],
      "metadata": {
        "colab": {
          "base_uri": "https://localhost:8080/"
        },
        "id": "mbkUFt4-dMbE",
        "outputId": "9daf8dc5-d4b6-4d95-8d32-2d5bdd9be299"
      },
      "execution_count": null,
      "outputs": [
        {
          "output_type": "execute_result",
          "data": {
            "text/plain": [
              "array([2, 4])"
            ]
          },
          "metadata": {},
          "execution_count": 67
        }
      ]
    },
    {
      "cell_type": "code",
      "source": [
        "a1+10 #adds the number to all the values in the array"
      ],
      "metadata": {
        "colab": {
          "base_uri": "https://localhost:8080/"
        },
        "id": "9aw-DcjadXWC",
        "outputId": "8ae5661f-1374-481e-88b5-07a70334a5e8"
      },
      "execution_count": null,
      "outputs": [
        {
          "output_type": "execute_result",
          "data": {
            "text/plain": [
              "array([11, 12])"
            ]
          },
          "metadata": {},
          "execution_count": 68
        }
      ]
    },
    {
      "cell_type": "code",
      "source": [
        "a2+2"
      ],
      "metadata": {
        "colab": {
          "base_uri": "https://localhost:8080/"
        },
        "id": "VlKL1-PjdlBR",
        "outputId": "0ee6f393-8c40-4e38-e822-413dd358dc03"
      },
      "execution_count": null,
      "outputs": [
        {
          "output_type": "execute_result",
          "data": {
            "text/plain": [
              "array([3, 4])"
            ]
          },
          "metadata": {},
          "execution_count": 69
        }
      ]
    },
    {
      "cell_type": "code",
      "source": [
        "a1*5"
      ],
      "metadata": {
        "colab": {
          "base_uri": "https://localhost:8080/"
        },
        "id": "eQ1eKGJodqks",
        "outputId": "a9ffa57d-cee1-41c0-800f-a41eee840e33"
      },
      "execution_count": null,
      "outputs": [
        {
          "output_type": "execute_result",
          "data": {
            "text/plain": [
              "array([ 5, 10])"
            ]
          },
          "metadata": {},
          "execution_count": 71
        }
      ]
    },
    {
      "cell_type": "code",
      "source": [
        "arr = np.array([1, 2, 3, 4])\n",
        "\n",
        "# Addition\n",
        "print(\"Addition:\", arr + 2)  # Adds 2 to each element\n",
        "\n",
        "# Subtraction\n",
        "print(\"Subtraction:\", arr - 1)\n",
        "\n",
        "# Multiplication\n",
        "print(\"Multiplication:\", arr * 3)\n",
        "\n",
        "# Division\n",
        "print(\"Division:\", arr / 2)\n",
        "\n",
        "# Power\n",
        "print(\"Exponentiation:\", arr ** 2)\n"
      ],
      "metadata": {
        "colab": {
          "base_uri": "https://localhost:8080/"
        },
        "id": "A7yltOurSjMw",
        "outputId": "0fbea5af-e078-40bb-a76d-ad6c42f8f87b"
      },
      "execution_count": null,
      "outputs": [
        {
          "output_type": "stream",
          "name": "stdout",
          "text": [
            "Addition: [3 4 5 6]\n",
            "Subtraction: [0 1 2 3]\n",
            "Multiplication: [ 3  6  9 12]\n",
            "Division: [0.5 1.  1.5 2. ]\n",
            "Exponentiation: [ 1  4  9 16]\n"
          ]
        }
      ]
    },
    {
      "cell_type": "markdown",
      "source": [
        "#Aggregate Functions\n"
      ],
      "metadata": {
        "id": "j4EWwICfSrJQ"
      }
    },
    {
      "cell_type": "code",
      "source": [
        "arr = np.array([10, 20, 30, 40])\n",
        "\n",
        "print(\"Sum:\", np.sum(arr))  # Sum of all elements\n",
        "print(\"Mean:\", np.mean(arr))  # Average\n",
        "print(\"Max:\", np.max(arr))  # Maximum value\n",
        "print(\"Min:\", np.min(arr))  # Minimum value\n",
        "print(\"Standard Deviation:\", np.std(arr))  # Standard deviation\n"
      ],
      "metadata": {
        "colab": {
          "base_uri": "https://localhost:8080/"
        },
        "id": "RPrGYFZGSl9T",
        "outputId": "c9ae03ec-05d4-4431-8d4b-def9c7cd5ebe"
      },
      "execution_count": null,
      "outputs": [
        {
          "output_type": "stream",
          "name": "stdout",
          "text": [
            "Sum: 100\n",
            "Mean: 25.0\n",
            "Max: 40\n",
            "Min: 10\n",
            "Standard Deviation: 11.180339887498949\n"
          ]
        }
      ]
    },
    {
      "cell_type": "markdown",
      "source": [
        "#Element-wise Comparisons\n",
        "\n"
      ],
      "metadata": {
        "id": "S62oKRUvSyGJ"
      }
    },
    {
      "cell_type": "code",
      "source": [
        "arr1 = np.array([1, 2, 3, 4])\n",
        "arr2 = np.array([4, 3, 2, 1])\n",
        "\n",
        "# Element-wise comparison\n",
        "print(\"Greater than:\", arr1 > arr2)\n",
        "print(\"Equality:\", arr1 == arr2)\n"
      ],
      "metadata": {
        "colab": {
          "base_uri": "https://localhost:8080/"
        },
        "id": "fYqpBXcsSvNa",
        "outputId": "b2e9c8d5-dd76-4ed1-b56a-8381f120ff24"
      },
      "execution_count": null,
      "outputs": [
        {
          "output_type": "stream",
          "name": "stdout",
          "text": [
            "Greater than: [False False  True  True]\n",
            "Equality: [False False False False]\n"
          ]
        }
      ]
    },
    {
      "cell_type": "markdown",
      "source": [
        "#3. Array Indexing and Slicing"
      ],
      "metadata": {
        "id": "vWT7vRvBS8ln"
      }
    },
    {
      "cell_type": "code",
      "source": [
        "arr = np.array([10, 20, 30, 40, 50])\n",
        "\n",
        "print(\"First Element:\", arr[0])  # Access first element\n",
        "print(\"Last Element:\", arr[-1])  # Access last element\n"
      ],
      "metadata": {
        "colab": {
          "base_uri": "https://localhost:8080/"
        },
        "id": "t_XFqE8eS1wB",
        "outputId": "badd6652-e3f2-48fc-a31b-a671fb54393d"
      },
      "execution_count": null,
      "outputs": [
        {
          "output_type": "stream",
          "name": "stdout",
          "text": [
            "First Element: 10\n",
            "Last Element: 50\n"
          ]
        }
      ]
    },
    {
      "cell_type": "code",
      "source": [
        "arr = np.array([10, 20, 30, 40, 50])\n",
        "\n",
        "print(\"First three elements:\", arr[:3])  # Elements from index 0 to 2\n",
        "print(\"Last two elements:\", arr[-2:])  # Last two elements\n",
        "print(\"Elements at even indices:\", arr[::2])  # Step of 2"
      ],
      "metadata": {
        "colab": {
          "base_uri": "https://localhost:8080/"
        },
        "id": "HuuCgn1aTMt2",
        "outputId": "a46ead5f-ca99-4f0c-903d-69a70c9988c3"
      },
      "execution_count": null,
      "outputs": [
        {
          "output_type": "stream",
          "name": "stdout",
          "text": [
            "First three elements: [10 20 30]\n",
            "Last two elements: [40 50]\n",
            "Elements at even indices: [10 30 50]\n"
          ]
        }
      ]
    },
    {
      "cell_type": "markdown",
      "source": [
        "#Slicing in 2D Arrays"
      ],
      "metadata": {
        "id": "R52oCFesTQuT"
      }
    },
    {
      "cell_type": "markdown",
      "source": [
        "2D Slicing Syntax:\n",
        "\n",
        "array[row_slicing, column_slicing]\n",
        "\n",
        "array[start_row:end_row, start_col,end_col]\n",
        "\n"
      ],
      "metadata": {
        "id": "Xeh5Wa9rVkm1"
      }
    },
    {
      "cell_type": "code",
      "source": [
        "arr2 = np.array([[1, 2, 3], [4, 5, 6], [7, 8, 9]])\n",
        "\n",
        "print(\"First row:\", arr2[0])  # Access first row\n",
        "print(\"First column:\", arr2[:, 0])  # Access first column\n",
        "print(\"Sub-matrix:\\n\", arr2[1:, 1:])  # Bottom-right sub-matrix\n"
      ],
      "metadata": {
        "colab": {
          "base_uri": "https://localhost:8080/"
        },
        "id": "7nhmifoiTORJ",
        "outputId": "fe6eb9f6-9db0-4761-f7fa-d43e1e586603"
      },
      "execution_count": null,
      "outputs": [
        {
          "output_type": "stream",
          "name": "stdout",
          "text": [
            "First row: [1 2 3]\n",
            "First column: [1 4 7]\n",
            "Sub-matrix:\n",
            " [[5 6]\n",
            " [8 9]]\n"
          ]
        }
      ]
    },
    {
      "cell_type": "code",
      "source": [
        "arr2"
      ],
      "metadata": {
        "colab": {
          "base_uri": "https://localhost:8080/"
        },
        "id": "zbfxi0gje3at",
        "outputId": "0f853881-2db9-4ecc-b65e-f89c0827ad31"
      },
      "execution_count": null,
      "outputs": [
        {
          "output_type": "execute_result",
          "data": {
            "text/plain": [
              "array([[1, 2, 3],\n",
              "       [4, 5, 6],\n",
              "       [7, 8, 9]])"
            ]
          },
          "metadata": {},
          "execution_count": 76
        }
      ]
    },
    {
      "cell_type": "markdown",
      "source": [
        "## row indexing"
      ],
      "metadata": {
        "id": "0uD1qTSohRZB"
      }
    },
    {
      "cell_type": "code",
      "source": [
        "arr2[0] #first row row indexing"
      ],
      "metadata": {
        "colab": {
          "base_uri": "https://localhost:8080/"
        },
        "id": "xd9AjIkHeww2",
        "outputId": "eb1cc2c7-6583-430b-e096-2d2b9456de99"
      },
      "execution_count": null,
      "outputs": [
        {
          "output_type": "execute_result",
          "data": {
            "text/plain": [
              "array([1, 2, 3])"
            ]
          },
          "metadata": {},
          "execution_count": 74
        }
      ]
    },
    {
      "cell_type": "code",
      "source": [
        "arr2[-1] #accessing last row"
      ],
      "metadata": {
        "colab": {
          "base_uri": "https://localhost:8080/"
        },
        "id": "scNW_BZlf-bf",
        "outputId": "eab5b31f-f4b4-4877-e65a-5f79320ca9a2"
      },
      "execution_count": null,
      "outputs": [
        {
          "output_type": "execute_result",
          "data": {
            "text/plain": [
              "array([7, 8, 9])"
            ]
          },
          "metadata": {},
          "execution_count": 85
        }
      ]
    },
    {
      "cell_type": "code",
      "source": [
        "arr2[1] #accessing specific row"
      ],
      "metadata": {
        "colab": {
          "base_uri": "https://localhost:8080/"
        },
        "id": "0idiihdIgBh5",
        "outputId": "8d1210ee-7ce0-4130-d57c-5be3c1f919ca"
      },
      "execution_count": null,
      "outputs": [
        {
          "output_type": "execute_result",
          "data": {
            "text/plain": [
              "array([4, 5, 6])"
            ]
          },
          "metadata": {},
          "execution_count": 87
        }
      ]
    },
    {
      "cell_type": "code",
      "source": [
        "arr2[0:2] #accessing rows 0 and 1 , 2 is exclusive"
      ],
      "metadata": {
        "colab": {
          "base_uri": "https://localhost:8080/"
        },
        "id": "PDrJKEBahDdc",
        "outputId": "fe4442c3-9e1b-4966-eb50-ba1a4b8e0727"
      },
      "execution_count": null,
      "outputs": [
        {
          "output_type": "execute_result",
          "data": {
            "text/plain": [
              "array([[1, 2, 3],\n",
              "       [4, 5, 6]])"
            ]
          },
          "metadata": {},
          "execution_count": 88
        }
      ]
    },
    {
      "cell_type": "code",
      "source": [
        "arr2[:]"
      ],
      "metadata": {
        "colab": {
          "base_uri": "https://localhost:8080/"
        },
        "id": "h_kz4_nrhomI",
        "outputId": "1a444206-c19d-4bda-9de0-9b0d343a7ea5"
      },
      "execution_count": null,
      "outputs": [
        {
          "output_type": "execute_result",
          "data": {
            "text/plain": [
              "array([[1, 2, 3],\n",
              "       [4, 5, 6],\n",
              "       [7, 8, 9]])"
            ]
          },
          "metadata": {},
          "execution_count": 90
        }
      ]
    },
    {
      "cell_type": "code",
      "source": [
        "arr2[1]"
      ],
      "metadata": {
        "colab": {
          "base_uri": "https://localhost:8080/"
        },
        "id": "Yi5g7gdde1Y4",
        "outputId": "bd0749a7-3752-410b-f582-cdebf2e58d3c"
      },
      "execution_count": null,
      "outputs": [
        {
          "output_type": "execute_result",
          "data": {
            "text/plain": [
              "array([4, 5, 6])"
            ]
          },
          "metadata": {},
          "execution_count": 75
        }
      ]
    },
    {
      "cell_type": "markdown",
      "source": [
        "## column indexing"
      ],
      "metadata": {
        "id": "NtytSciHhVBZ"
      }
    },
    {
      "cell_type": "code",
      "source": [
        "arr2"
      ],
      "metadata": {
        "colab": {
          "base_uri": "https://localhost:8080/"
        },
        "id": "Igz4bPfshkT2",
        "outputId": "5ee4ad38-a194-44dc-94a7-4b8c3487f718"
      },
      "execution_count": null,
      "outputs": [
        {
          "output_type": "execute_result",
          "data": {
            "text/plain": [
              "array([[1, 2, 3],\n",
              "       [4, 5, 6],\n",
              "       [7, 8, 9]])"
            ]
          },
          "metadata": {},
          "execution_count": 6
        }
      ]
    },
    {
      "cell_type": "code",
      "source": [
        "arr2[:,0] #first give row \":\"\" means all rows and 0 indicates 1st column"
      ],
      "metadata": {
        "colab": {
          "base_uri": "https://localhost:8080/"
        },
        "id": "IlsYHi1GfjtJ",
        "outputId": "1ee318a4-f8d4-4cc2-f5b4-04768e18fec3"
      },
      "execution_count": null,
      "outputs": [
        {
          "output_type": "execute_result",
          "data": {
            "text/plain": [
              "array([1, 4, 7])"
            ]
          },
          "metadata": {},
          "execution_count": 84
        }
      ]
    },
    {
      "cell_type": "code",
      "source": [
        "arr2[:,1:3] #display 2 and 3 column"
      ],
      "metadata": {
        "colab": {
          "base_uri": "https://localhost:8080/"
        },
        "id": "thQX1ztKiDCJ",
        "outputId": "40c60b0f-fbc2-4034-84ca-aa85c3530b6b"
      },
      "execution_count": null,
      "outputs": [
        {
          "output_type": "execute_result",
          "data": {
            "text/plain": [
              "array([[2, 3],\n",
              "       [5, 6],\n",
              "       [8, 9]])"
            ]
          },
          "metadata": {},
          "execution_count": 91
        }
      ]
    },
    {
      "cell_type": "code",
      "source": [
        "arr2[:,1:] #similar to above"
      ],
      "metadata": {
        "colab": {
          "base_uri": "https://localhost:8080/"
        },
        "id": "M0ntS5VkJkhr",
        "outputId": "0ca0eee3-123f-404e-e466-6fb6ec244f94"
      },
      "execution_count": null,
      "outputs": [
        {
          "output_type": "execute_result",
          "data": {
            "text/plain": [
              "array([[2, 3],\n",
              "       [5, 6],\n",
              "       [8, 9]])"
            ]
          },
          "metadata": {},
          "execution_count": 7
        }
      ]
    },
    {
      "cell_type": "code",
      "source": [
        "arr2[0:2,1:3]"
      ],
      "metadata": {
        "colab": {
          "base_uri": "https://localhost:8080/"
        },
        "id": "S4kIbHYte-dl",
        "outputId": "26e4bc51-19fa-4f3e-9d8d-b4e03b47fda6"
      },
      "execution_count": null,
      "outputs": [
        {
          "output_type": "execute_result",
          "data": {
            "text/plain": [
              "array([[2, 3],\n",
              "       [5, 6]])"
            ]
          },
          "metadata": {},
          "execution_count": 82
        }
      ]
    },
    {
      "cell_type": "code",
      "source": [
        "arr2[:2,1:]"
      ],
      "metadata": {
        "colab": {
          "base_uri": "https://localhost:8080/"
        },
        "id": "87D4REGJKoKo",
        "outputId": "d589fb04-258f-4e21-9661-162658d33cdd"
      },
      "execution_count": null,
      "outputs": [
        {
          "output_type": "execute_result",
          "data": {
            "text/plain": [
              "array([[2, 3],\n",
              "       [5, 6]])"
            ]
          },
          "metadata": {},
          "execution_count": 14
        }
      ]
    },
    {
      "cell_type": "code",
      "source": [
        "arr2[:2,-2:]  #similar to above"
      ],
      "metadata": {
        "colab": {
          "base_uri": "https://localhost:8080/"
        },
        "id": "tmU7tUCHK0Oh",
        "outputId": "54e20151-ff99-43c7-ddac-501fc8a364bf"
      },
      "execution_count": null,
      "outputs": [
        {
          "output_type": "execute_result",
          "data": {
            "text/plain": [
              "array([[2, 3],\n",
              "       [5, 6]])"
            ]
          },
          "metadata": {},
          "execution_count": 17
        }
      ]
    },
    {
      "cell_type": "code",
      "source": [
        "arr2"
      ],
      "metadata": {
        "colab": {
          "base_uri": "https://localhost:8080/"
        },
        "id": "sWgK5HvDKLo7",
        "outputId": "49d9d333-f650-4382-e338-7f567e741e03"
      },
      "execution_count": null,
      "outputs": [
        {
          "output_type": "execute_result",
          "data": {
            "text/plain": [
              "array([[1, 2, 3],\n",
              "       [4, 5, 6],\n",
              "       [7, 8, 9]])"
            ]
          },
          "metadata": {},
          "execution_count": 8
        }
      ]
    },
    {
      "cell_type": "code",
      "source": [
        "arr2[1:,1:]"
      ],
      "metadata": {
        "colab": {
          "base_uri": "https://localhost:8080/"
        },
        "id": "2WY0p5hzKNBd",
        "outputId": "a8c446c3-4f10-449a-93f7-59dea73c7eac"
      },
      "execution_count": null,
      "outputs": [
        {
          "output_type": "execute_result",
          "data": {
            "text/plain": [
              "array([[5, 6],\n",
              "       [8, 9]])"
            ]
          },
          "metadata": {},
          "execution_count": 15
        }
      ]
    },
    {
      "cell_type": "code",
      "source": [
        "arr2[1:,:2]"
      ],
      "metadata": {
        "colab": {
          "base_uri": "https://localhost:8080/"
        },
        "id": "-7SbYVYQLHgu",
        "outputId": "b6a6f1fe-4199-49c2-8722-64b52e013e82"
      },
      "execution_count": null,
      "outputs": [
        {
          "output_type": "execute_result",
          "data": {
            "text/plain": [
              "array([[4, 5],\n",
              "       [7, 8]])"
            ]
          },
          "metadata": {},
          "execution_count": 18
        }
      ]
    },
    {
      "cell_type": "code",
      "source": [
        "arr2[1:,:1]"
      ],
      "metadata": {
        "colab": {
          "base_uri": "https://localhost:8080/"
        },
        "id": "NHoLiXRuLUpH",
        "outputId": "9ba9b557-d8aa-4380-a1cd-42855c6b8e31"
      },
      "execution_count": null,
      "outputs": [
        {
          "output_type": "execute_result",
          "data": {
            "text/plain": [
              "array([[4],\n",
              "       [7]])"
            ]
          },
          "metadata": {},
          "execution_count": 22
        }
      ]
    },
    {
      "cell_type": "code",
      "source": [
        "arr2[1:,0]"
      ],
      "metadata": {
        "colab": {
          "base_uri": "https://localhost:8080/"
        },
        "id": "fJA9YoDiLhoG",
        "outputId": "a6dc208c-8ada-4c0b-c469-277da86bc591"
      },
      "execution_count": null,
      "outputs": [
        {
          "output_type": "execute_result",
          "data": {
            "text/plain": [
              "array([4, 7])"
            ]
          },
          "metadata": {},
          "execution_count": 23
        }
      ]
    },
    {
      "cell_type": "markdown",
      "source": [
        "# End of NumPy Notes"
      ],
      "metadata": {
        "id": "4PEoolQoLyjl"
      }
    },
    {
      "cell_type": "markdown",
      "source": [
        "#Weekly Calories Data"
      ],
      "metadata": {
        "id": "SWzugOQ0UzKp"
      }
    },
    {
      "cell_type": "code",
      "source": [
        "import numpy as np\n",
        "\n",
        "# Daily calorie intake for one week (Monday to Sunday)\n",
        "calories = np.array([1800, 2000, 2200, 2500, 2300, 1900, 2100])\n",
        "\n",
        "# First three days of the week (Monday to Wednesday)\n",
        "first_three_days = calories[:3]\n",
        "print(\"Calories for the first three days (Monday-Wednesday):\", first_three_days)\n",
        "\n",
        "# Weekend calories (Saturday and Sunday)\n",
        "weekend = calories[-2:]\n",
        "print(\"Calories for the weekend (Saturday-Sunday):\", weekend)\n",
        "\n",
        "# Middle three days of the week (Wednesday, Thursday, Friday)\n",
        "middle_three_days = calories[2:5]\n",
        "print(\"Calories for the middle three days (Wednesday-Friday):\", middle_three_days)\n"
      ],
      "metadata": {
        "colab": {
          "base_uri": "https://localhost:8080/"
        },
        "id": "PBYqaSDbU1ym",
        "outputId": "ac3d4846-9946-4dbb-c1ab-352dbad10230"
      },
      "execution_count": null,
      "outputs": [
        {
          "output_type": "stream",
          "name": "stdout",
          "text": [
            "Calories for the first three days (Monday-Wednesday): [1800 2000 2200]\n",
            "Calories for the weekend (Saturday-Sunday): [1900 2100]\n",
            "Calories for the middle three days (Wednesday-Friday): [2200 2500 2300]\n"
          ]
        }
      ]
    },
    {
      "cell_type": "markdown",
      "source": [
        "#Weekly Step Count\n",
        "\n",
        "Let's use a 2D array to demonstrate slicing for step counts over two weeks.\n",
        "\n"
      ],
      "metadata": {
        "id": "zYDIrVKSU7Xo"
      }
    },
    {
      "cell_type": "code",
      "source": [
        "# Step count data for two weeks (rows = weeks, columns = days)\n",
        "steps = np.array([\n",
        "    [8000, 7500, 8200, 10000, 9000, 7000, 8500],  # Week 1\n",
        "    [8100, 7600, 8300, 10100, 9100, 7200, 8600]   # Week 2\n",
        "])\n",
        "\n",
        "# Steps for the first three days of both weeks\n",
        "first_three_days = steps[:, :3]\n",
        "print(\"Steps for the first three days of both weeks:\\n\", first_three_days)\n",
        "\n",
        "# Steps for the weekend of both weeks (Saturday and Sunday)\n",
        "weekend = steps[:, -2:]\n",
        "print(\"Steps for the weekend of both weeks:\\n\", weekend)\n",
        "'''In this case, [:, -2:] means:\n",
        "\n",
        ": → Select all rows.\n",
        "\n",
        "-2: → Select the last two columns (Saturday and Sunday).'''\n",
        "# Steps for the middle three days of each week\n",
        "middle_three_days = steps[:, 2:5]\n",
        "print(\"Steps for the middle three days of each week:\\n\", middle_three_days)\n"
      ],
      "metadata": {
        "colab": {
          "base_uri": "https://localhost:8080/"
        },
        "id": "dYTL1NSNU-ht",
        "outputId": "1afef63c-ada2-4ee1-ac01-cfbe454844b2"
      },
      "execution_count": null,
      "outputs": [
        {
          "output_type": "stream",
          "name": "stdout",
          "text": [
            "Steps for the first three days of both weeks:\n",
            " [[8000 7500 8200]\n",
            " [8100 7600 8300]]\n",
            "Steps for the weekend of both weeks:\n",
            " [[7000 8500]\n",
            " [7200 8600]]\n",
            "Steps for the middle three days of each week:\n",
            " [[ 8200 10000  9000]\n",
            " [ 8300 10100  9100]]\n"
          ]
        }
      ]
    },
    {
      "cell_type": "code",
      "source": [],
      "metadata": {
        "id": "JH2qcLM9Vj7g"
      },
      "execution_count": null,
      "outputs": []
    },
    {
      "cell_type": "markdown",
      "source": [
        "#4. NumPy Functions"
      ],
      "metadata": {
        "id": "DnyWkYOtTZlM"
      }
    },
    {
      "cell_type": "markdown",
      "source": [
        "#Mathematical Functions\n"
      ],
      "metadata": {
        "id": "WXDQm431TbfS"
      }
    },
    {
      "cell_type": "code",
      "source": [
        "arr = np.array([0, np.pi/2, np.pi])\n",
        "\n",
        "print(\"Sin:\", np.sin(arr))  # Sine values\n",
        "print(\"Cos:\", np.cos(arr))  # Cosine values\n",
        "print(\"Exponential:\", np.exp(arr))  # Exponential\n",
        "print(\"Logarithm:\", np.log(np.array([1, np.e, np.e**2])))  # Natural log\n"
      ],
      "metadata": {
        "colab": {
          "base_uri": "https://localhost:8080/"
        },
        "id": "UcpGVQV3TU23",
        "outputId": "6e2c783e-daeb-4fe2-d7d8-35f3ef198c4e"
      },
      "execution_count": null,
      "outputs": [
        {
          "output_type": "stream",
          "name": "stdout",
          "text": [
            "Sin: [0.0000000e+00 1.0000000e+00 1.2246468e-16]\n",
            "Cos: [ 1.000000e+00  6.123234e-17 -1.000000e+00]\n",
            "Exponential: [ 1.          4.81047738 23.14069263]\n",
            "Logarithm: [0. 1. 2.]\n"
          ]
        }
      ]
    },
    {
      "cell_type": "markdown",
      "source": [
        "#Reshaping and Transposing\n"
      ],
      "metadata": {
        "id": "LJghyZoETtnT"
      }
    },
    {
      "cell_type": "code",
      "source": [
        "arr = np.array([1, 2, 3, 4, 5, 6])\n",
        "\n",
        "reshaped = arr.reshape((2, 3))  # Convert to 2x3 array\n",
        "print(\"Reshaped Array:\\n\", reshaped)\n",
        "\n",
        "transposed = reshaped.T  # Transpose the array\n",
        "print(\"Transposed Array:\\n\", transposed)\n"
      ],
      "metadata": {
        "colab": {
          "base_uri": "https://localhost:8080/"
        },
        "id": "mvoxN2DRTsN2",
        "outputId": "5a9b0666-0ef9-4556-c56b-732b17fa7686"
      },
      "execution_count": null,
      "outputs": [
        {
          "output_type": "stream",
          "name": "stdout",
          "text": [
            "Reshaped Array:\n",
            " [[1 2 3]\n",
            " [4 5 6]]\n",
            "Transposed Array:\n",
            " [[1 4]\n",
            " [2 5]\n",
            " [3 6]]\n"
          ]
        }
      ]
    },
    {
      "cell_type": "markdown",
      "source": [
        "#Sorting\n"
      ],
      "metadata": {
        "id": "e5zVppGDTyCD"
      }
    },
    {
      "cell_type": "code",
      "source": [
        "arr = np.array([4, 1, 3, 9, 2])\n",
        "\n",
        "sorted_arr = np.sort(arr)\n",
        "print(\"Sorted Array:\", sorted_arr)\n"
      ],
      "metadata": {
        "colab": {
          "base_uri": "https://localhost:8080/"
        },
        "id": "EQKihiiMTv9a",
        "outputId": "a11767dc-978c-4563-cdc6-00b2cb9d18b8"
      },
      "execution_count": null,
      "outputs": [
        {
          "output_type": "stream",
          "name": "stdout",
          "text": [
            "Sorted Array: [1 2 3 4 9]\n"
          ]
        }
      ]
    },
    {
      "cell_type": "markdown",
      "source": [
        "#5. Broadcasting\n",
        "Broadcasting allows NumPy to perform operations on arrays of different shapes, aligning smaller arrays with larger ones."
      ],
      "metadata": {
        "id": "nyb15KReT4xo"
      }
    },
    {
      "cell_type": "code",
      "source": [
        "arr = np.array([1, 2, 3])\n",
        "matrix = np.array([[10], [20], [30]])\n",
        "\n",
        "# Broadcasting addition\n",
        "result = arr + matrix\n",
        "print(\"Broadcasted Result:\\n\", result)\n"
      ],
      "metadata": {
        "colab": {
          "base_uri": "https://localhost:8080/"
        },
        "id": "gY5Pg_0PT1Gf",
        "outputId": "730f21bb-a1dc-4678-d8a7-5848bef232a5"
      },
      "execution_count": null,
      "outputs": [
        {
          "output_type": "stream",
          "name": "stdout",
          "text": [
            "Broadcasted Result:\n",
            " [[11 12 13]\n",
            " [21 22 23]\n",
            " [31 32 33]]\n"
          ]
        }
      ]
    },
    {
      "cell_type": "markdown",
      "source": [
        "#Problem: Analyzing Sales Data\n"
      ],
      "metadata": {
        "id": "lEH4abapUDx0"
      }
    },
    {
      "cell_type": "code",
      "source": [
        "# Sales data for three products over four weeks\n",
        "sales = np.array([[200, 220, 250],  # Week 1\n",
        "                  [210, 240, 260],  # Week 2\n",
        "                  [220, 230, 270],  # Week 3\n",
        "                  [230, 250, 280]]) # Week 4\n",
        "\n",
        "# Total sales for each week\n",
        "total_sales_per_week = np.sum(sales, axis=1)\n",
        "print(\"Total Sales per Week:\", total_sales_per_week)\n",
        "\n",
        "# Total sales for each product\n",
        "total_sales_per_product = np.sum(sales, axis=0)\n",
        "print(\"Total Sales per Product:\", total_sales_per_product)\n",
        "\n",
        "# Average sales per product\n",
        "average_sales_per_product = np.mean(sales, axis=0)\n",
        "print(\"Average Sales per Product:\", average_sales_per_product)\n"
      ],
      "metadata": {
        "colab": {
          "base_uri": "https://localhost:8080/"
        },
        "id": "MsIVgpuDT7lw",
        "outputId": "3545b5b9-353a-4ae4-a2fe-8035a165ae09"
      },
      "execution_count": null,
      "outputs": [
        {
          "output_type": "stream",
          "name": "stdout",
          "text": [
            "Total Sales per Week: [670 710 720 760]\n",
            "Total Sales per Product: [ 860  940 1060]\n",
            "Average Sales per Product: [215. 235. 265.]\n"
          ]
        }
      ]
    },
    {
      "cell_type": "code",
      "source": [
        "import numpy as np\n",
        "\n",
        "# Create a numpy array\n",
        "a = np.array([(1,2,3,4),(3,1,4,2)])\n",
        "\n",
        "# Let's print the array a\n",
        "print (\"Original array:\\n \", a)\n",
        "\n",
        "# Convert nd array to 1D array\n",
        "c = a.flatten()\n",
        "\n",
        "# Flatten passes copy of\n",
        "# original array to 'c'\n",
        "print (\"\\nFlatten array using flatten: \", c)\n",
        "print (\"Original array:\\n \", a)"
      ],
      "metadata": {
        "id": "3buYb7bBUFQo",
        "colab": {
          "base_uri": "https://localhost:8080/"
        },
        "outputId": "1645656d-1bc5-4ab5-884d-f896c9de1e5d"
      },
      "execution_count": null,
      "outputs": [
        {
          "output_type": "stream",
          "name": "stdout",
          "text": [
            "Original array:\n",
            "  [[1 2 3 4]\n",
            " [3 1 4 2]]\n",
            "\n",
            "Flatten array using flatten:  [1 2 3 4 3 1 4 2]\n",
            "Original array:\n",
            "  [[1 2 3 4]\n",
            " [3 1 4 2]]\n"
          ]
        }
      ]
    },
    {
      "cell_type": "code",
      "source": [
        "c[2] = 33\n",
        "\n",
        "print (\"Flatten array: \", c)\n",
        "\n",
        "# Let's print the array a\n",
        "print (\"\\nOriginal array:\\n \", a)\n"
      ],
      "metadata": {
        "colab": {
          "base_uri": "https://localhost:8080/"
        },
        "id": "nIN_T_6sH42V",
        "outputId": "fd007fb7-d862-4eac-f7b2-39a4014a6e89"
      },
      "execution_count": null,
      "outputs": [
        {
          "output_type": "stream",
          "name": "stdout",
          "text": [
            "Flatten array:  [ 1  2 33  4  3  1  4  2]\n",
            "\n",
            "Original array:\n",
            "  [[1 2 3 4]\n",
            " [3 1 4 2]]\n"
          ]
        }
      ]
    },
    {
      "cell_type": "code",
      "source": [
        "import numpy as np\n",
        "\n",
        "# Create a numpy array\n",
        "a = np.array([(1,2,3,4),(3,1,4,2)])\n",
        "\n",
        "# Let's print the array a\n",
        "print (\"Original array:\\n \", a)\n",
        "\n",
        "ra = np.ravel(a)\n",
        "print (\"\\nFlatten array using ravel: \", ra)\n"
      ],
      "metadata": {
        "id": "Tpf0-I_xIUwY",
        "outputId": "acad586a-064d-4e43-9e00-d433c80387f4",
        "colab": {
          "base_uri": "https://localhost:8080/"
        }
      },
      "execution_count": null,
      "outputs": [
        {
          "output_type": "stream",
          "name": "stdout",
          "text": [
            "Original array:\n",
            "  [[1 2 3 4]\n",
            " [3 1 4 2]]\n",
            "\n",
            "Flatten array using ravel:  [1 2 3 4 3 1 4 2]\n"
          ]
        }
      ]
    },
    {
      "cell_type": "code",
      "source": [
        "ra[3] = 44\n",
        "\n",
        "print (\"Flatten array: \", ra)\n",
        "\n",
        "# Let's print the array a\n",
        "print (\"\\nOriginal array:\\n \", a)\n"
      ],
      "metadata": {
        "id": "UCXVLsrGIVlV",
        "outputId": "4ff4ba7a-fb2b-4569-850a-c4d81af52088",
        "colab": {
          "base_uri": "https://localhost:8080/"
        }
      },
      "execution_count": null,
      "outputs": [
        {
          "output_type": "stream",
          "name": "stdout",
          "text": [
            "Flatten array:  [ 1  2  3 44  3  1  4  2]\n",
            "\n",
            "Original array:\n",
            "  [[ 1  2  3 44]\n",
            " [ 3  1  4  2]]\n"
          ]
        }
      ]
    },
    {
      "cell_type": "code",
      "source": [
        "import numpy as np"
      ],
      "metadata": {
        "id": "DlToLsf0ZQPw"
      },
      "execution_count": null,
      "outputs": []
    },
    {
      "cell_type": "code",
      "source": [
        "\n",
        "arr3d=np.random.randint(1,50,(4,4))\n",
        "arr3d"
      ],
      "metadata": {
        "colab": {
          "base_uri": "https://localhost:8080/"
        },
        "id": "7hUZikj0ZM7i",
        "outputId": "1fff591f-2fb0-47fd-9fa2-f8432d79f17b"
      },
      "execution_count": null,
      "outputs": [
        {
          "output_type": "execute_result",
          "data": {
            "text/plain": [
              "array([[39, 29, 10, 30],\n",
              "       [ 1, 32, 19, 17],\n",
              "       [33, 47, 27, 20],\n",
              "       [12,  2, 18, 39]])"
            ]
          },
          "metadata": {},
          "execution_count": 3
        }
      ]
    },
    {
      "cell_type": "code",
      "source": [
        "arr3d[:-1]"
      ],
      "metadata": {
        "colab": {
          "base_uri": "https://localhost:8080/"
        },
        "id": "tsotEc97ZdEt",
        "outputId": "c65a0e1a-4321-47e6-c6a8-691630e97eb1"
      },
      "execution_count": null,
      "outputs": [
        {
          "output_type": "execute_result",
          "data": {
            "text/plain": [
              "array([[39, 29, 10, 30],\n",
              "       [ 1, 32, 19, 17],\n",
              "       [33, 47, 27, 20]])"
            ]
          },
          "metadata": {},
          "execution_count": 4
        }
      ]
    },
    {
      "cell_type": "code",
      "source": [
        "arr3d[:-1,:-1]"
      ],
      "metadata": {
        "colab": {
          "base_uri": "https://localhost:8080/"
        },
        "id": "bEEyL1AoZgnC",
        "outputId": "5ce115bc-c7b9-4335-c21a-def828966881"
      },
      "execution_count": null,
      "outputs": [
        {
          "output_type": "execute_result",
          "data": {
            "text/plain": [
              "array([[39, 29, 10],\n",
              "       [ 1, 32, 19],\n",
              "       [33, 47, 27]])"
            ]
          },
          "metadata": {},
          "execution_count": 5
        }
      ]
    },
    {
      "cell_type": "code",
      "source": [
        "\n",
        "arr3d=np.random.randint(1,50,(3,2,2))\n",
        "arr3d"
      ],
      "metadata": {
        "colab": {
          "base_uri": "https://localhost:8080/"
        },
        "id": "3vT0G74aZmHC",
        "outputId": "8bc74db4-b4c7-4101-b62f-a036a89ba7ca"
      },
      "execution_count": null,
      "outputs": [
        {
          "output_type": "execute_result",
          "data": {
            "text/plain": [
              "array([[[10, 37],\n",
              "        [35, 23]],\n",
              "\n",
              "       [[31, 41],\n",
              "        [ 9, 32]],\n",
              "\n",
              "       [[49, 37],\n",
              "        [42, 41]]])"
            ]
          },
          "metadata": {},
          "execution_count": 9
        }
      ]
    },
    {
      "cell_type": "code",
      "source": [
        "arr3d[:1,:,:]"
      ],
      "metadata": {
        "colab": {
          "base_uri": "https://localhost:8080/"
        },
        "id": "eF6xIDfJZ-Dy",
        "outputId": "c38c7975-a5ea-446d-ddc8-efb649a70526"
      },
      "execution_count": null,
      "outputs": [
        {
          "output_type": "execute_result",
          "data": {
            "text/plain": [
              "array([[[10, 37],\n",
              "        [35, 23]]])"
            ]
          },
          "metadata": {},
          "execution_count": 10
        }
      ]
    },
    {
      "cell_type": "code",
      "source": [
        "arr3d[0]"
      ],
      "metadata": {
        "colab": {
          "base_uri": "https://localhost:8080/"
        },
        "id": "98TTG1sEaFHq",
        "outputId": "582290bb-2d2c-4b0b-e525-f0d1358b309b"
      },
      "execution_count": null,
      "outputs": [
        {
          "output_type": "execute_result",
          "data": {
            "text/plain": [
              "array([[10, 37],\n",
              "       [35, 23]])"
            ]
          },
          "metadata": {},
          "execution_count": 11
        }
      ]
    },
    {
      "cell_type": "code",
      "source": [
        "arr3d[:,:1,:1]"
      ],
      "metadata": {
        "colab": {
          "base_uri": "https://localhost:8080/"
        },
        "id": "M8YyMKbEaIcx",
        "outputId": "791b973b-f437-465f-b9bc-ec9358cc77b4"
      },
      "execution_count": null,
      "outputs": [
        {
          "output_type": "execute_result",
          "data": {
            "text/plain": [
              "array([[[10]],\n",
              "\n",
              "       [[31]],\n",
              "\n",
              "       [[49]]])"
            ]
          },
          "metadata": {},
          "execution_count": 12
        }
      ]
    },
    {
      "cell_type": "code",
      "source": [
        "arr3d[:,1:,:1]"
      ],
      "metadata": {
        "colab": {
          "base_uri": "https://localhost:8080/"
        },
        "id": "hiL59f95afLp",
        "outputId": "7c3635da-d1aa-4e19-d0cc-e1a6dac55bfe"
      },
      "execution_count": null,
      "outputs": [
        {
          "output_type": "execute_result",
          "data": {
            "text/plain": [
              "array([[[35]],\n",
              "\n",
              "       [[ 9]],\n",
              "\n",
              "       [[42]]])"
            ]
          },
          "metadata": {},
          "execution_count": 14
        }
      ]
    },
    {
      "cell_type": "code",
      "source": [
        "a=np.random.randint(1,10,(2,2))\n",
        "b=np.random.randint(1,10,(2,2))\n",
        "a"
      ],
      "metadata": {
        "colab": {
          "base_uri": "https://localhost:8080/"
        },
        "id": "9O6ELyJ0ak1Q",
        "outputId": "5c553106-866d-4cb8-939b-30f72414a694"
      },
      "execution_count": null,
      "outputs": [
        {
          "output_type": "execute_result",
          "data": {
            "text/plain": [
              "array([[3, 8],\n",
              "       [9, 9]])"
            ]
          },
          "metadata": {},
          "execution_count": 5
        }
      ]
    },
    {
      "cell_type": "code",
      "source": [
        "b"
      ],
      "metadata": {
        "colab": {
          "base_uri": "https://localhost:8080/"
        },
        "id": "hMBNlHH56FNS",
        "outputId": "38b7fa79-1f1c-4037-d1a2-39ad8dad3dec"
      },
      "execution_count": null,
      "outputs": [
        {
          "output_type": "execute_result",
          "data": {
            "text/plain": [
              "array([[4, 3],\n",
              "       [4, 4]])"
            ]
          },
          "metadata": {},
          "execution_count": 6
        }
      ]
    },
    {
      "cell_type": "code",
      "source": [
        "np.dstack((a,b))"
      ],
      "metadata": {
        "colab": {
          "base_uri": "https://localhost:8080/"
        },
        "id": "44cxskYw58xD",
        "outputId": "bb627b43-de1b-4d2a-8f83-69ca29bb42da"
      },
      "execution_count": null,
      "outputs": [
        {
          "output_type": "execute_result",
          "data": {
            "text/plain": [
              "array([[[3, 4],\n",
              "        [8, 3]],\n",
              "\n",
              "       [[9, 4],\n",
              "        [9, 4]]])"
            ]
          },
          "metadata": {},
          "execution_count": 7
        }
      ]
    },
    {
      "cell_type": "code",
      "source": [],
      "metadata": {
        "id": "dSoqwMiA6A9K"
      },
      "execution_count": null,
      "outputs": []
    }
  ]
}