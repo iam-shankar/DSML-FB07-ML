{
  "nbformat": 4,
  "nbformat_minor": 0,
  "metadata": {
    "colab": {
      "provenance": [],
      "include_colab_link": true
    },
    "kernelspec": {
      "name": "python3",
      "display_name": "Python 3"
    },
    "language_info": {
      "name": "python"
    }
  },
  "cells": [
    {
      "cell_type": "markdown",
      "metadata": {
        "id": "view-in-github",
        "colab_type": "text"
      },
      "source": [
        "<a href=\"https://colab.research.google.com/github/iam-shankar/DSML-FB07-ML/blob/main/Main_file_Python_and_ML_Notebooks_FN_B07.ipynb\" target=\"_parent\"><img src=\"https://colab.research.google.com/assets/colab-badge.svg\" alt=\"Open In Colab\"/></a>"
      ]
    },
    {
      "cell_type": "markdown",
      "source": [
        "#Python Notes"
      ],
      "metadata": {
        "id": "0v-d0TOChRHk"
      }
    },
    {
      "cell_type": "markdown",
      "source": [
        "\n",
        "- Python Live session notes - https://colab.research.google.com/drive/1OG6hnN1JEBSWQQO7o_fp3XlrlEw39qwS?usp=sharing\n",
        "\n",
        "- Numpy notes - https://colab.research.google.com/drive/1OwV0a8TKLcnapZltN_m3mr2XVzHKxrKE?usp=sharing\n",
        "\n",
        "- Live session note - https://colab.research.google.com/drive/1OG6hnN1JEBSWQQO7o_fp3XlrlEw39qwS?usp=sharing\n",
        "\n",
        "- Pandas - https://colab.research.google.com/drive/1sT8B3WTujCBiHiMyIBuqeW4pnJyZuuvd?usp=sharing\n",
        "\n",
        "- Matplotlib and Seaborn live notes - https://colab.research.google.com/drive/1YCpKxp4ZSGnWTUQJwaN7iVEqiqdP0-wh?usp=sharing\n",
        "\n",
        "- Matplotlib ref notes - https://colab.research.google.com/drive/1USIjrZJ7GkKpUGb5-h1vG1bB6O2_A6aJ?usp=sharing\n",
        "\n",
        "- Seaborn ref notes -https://colab.research.google.com/drive/1K7CdY4cHWCDHI1Xd-AP9TDaiEQ_zXgxO?usp=sharing\n",
        "\n",
        "- Plotly - https://colab.research.google.com/drive/1ZzBCHOWp6CdbHuaJ0BMqAiObUee6cazJ?usp=sharing\n",
        "\n",
        "\n",
        "- 1000 Python Questions https://www.sanfoundry.com/1000-python-questions-answers/#python-chapters"
      ],
      "metadata": {
        "id": "D28YLwBFhSi9"
      }
    },
    {
      "cell_type": "markdown",
      "source": [
        "Statistics\n",
        "Session 1, 2, 3, 4\n",
        "- Stats live session notes - https://colab.research.google.com/drive/1Iwh7aIE8xrG1YD62qlWMz4Jfo1GeLpDd?usp=sharing\n",
        "\n",
        "Session 5\n",
        "\n",
        "- Data Preprocessing ref notes - https://colab.research.google.com/drive/1ywDVcouZRD3MHgBWDkcwjFkmXb1sMDCo?usp=sharing\n",
        "\n",
        "- Live session notes - https://colab.research.google.com/drive/11tE4-bY7H7CUvLn7lb0LNQ4O8WhCyyni?usp=sharing\n",
        "\n",
        "\n",
        "Session 6 -\n",
        "\n",
        "Reference notes - https://colab.research.google.com/drive/1UApTZko2whp570rxUgL4JQwa7BKZ8yHd?usp=sharing\n",
        "\n",
        "Live session notes - https://colab.research.google.com/drive/1p9O5ykiWgTgGJGN0Pi0cfYgqU5CvjlYN?usp=sharing"
      ],
      "metadata": {
        "id": "O2HYtNpgx300"
      }
    },
    {
      "cell_type": "code",
      "execution_count": null,
      "metadata": {
        "id": "empPR0NdfMUs"
      },
      "outputs": [],
      "source": []
    }
  ]
}